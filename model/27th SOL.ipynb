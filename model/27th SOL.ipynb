{
 "cells": [
  {
   "cell_type": "code",
   "execution_count": 68,
   "id": "99c80c53-6900-4630-a763-7cc91679f44b",
   "metadata": {},
   "outputs": [],
   "source": [
    "import cv2\n",
    "import mediapipe as mp\n",
    "import numpy as np\n",
    "import os\n",
    "from scipy.spatial.distance import cosine"
   ]
  },
  {
   "cell_type": "code",
   "execution_count": 70,
   "id": "d20abf00-b96d-4f68-a959-a53e4f0e3dc4",
   "metadata": {},
   "outputs": [],
   "source": [
    "mp_pose = mp.solutions.pose\n",
    "pose = mp_pose.Pose()\n",
    "mp_drawing = mp.solutions.drawing_utils"
   ]
  },
  {
   "cell_type": "code",
   "execution_count": 72,
   "id": "e0ca29f8-1d3f-47eb-a2a7-ee0da1f0275c",
   "metadata": {},
   "outputs": [],
   "source": [
    "def calculate_angle_3d(a, b, c):\n",
    "    a, b, c = np.array(a), np.array(b), np.array(c)\n",
    "    ba, bc = a - b, c - b\n",
    "    cosine_angle = np.dot(ba, bc) / (np.linalg.norm(ba) * np.linalg.norm(bc))\n",
    "    angle = np.arccos(np.clip(cosine_angle, -1.0, 1.0))\n",
    "    return np.degrees(angle)"
   ]
  },
  {
   "cell_type": "code",
   "execution_count": 74,
   "id": "11fd7715-ee6a-4121-bf20-6ad5b03eb0d5",
   "metadata": {},
   "outputs": [],
   "source": [
    "def extract_angles(landmarks):\n",
    "    key_angles = {\n",
    "        \"left_shoulder\": calculate_angle_3d(landmarks[11], landmarks[13], landmarks[15]),\n",
    "        \"right_shoulder\": calculate_angle_3d(landmarks[12], landmarks[14], landmarks[16]),\n",
    "        \"left_elbow\": calculate_angle_3d(landmarks[13], landmarks[15], landmarks[16]),\n",
    "        \"right_elbow\": calculate_angle_3d(landmarks[14], landmarks[16], landmarks[15]),\n",
    "        \"left_hip\": calculate_angle_3d(landmarks[23], landmarks[25], landmarks[27]),\n",
    "        \"right_hip\": calculate_angle_3d(landmarks[24], landmarks[26], landmarks[28]),\n",
    "        \"left_knee\": calculate_angle_3d(landmarks[25], landmarks[27], landmarks[28]),\n",
    "        \"right_knee\": calculate_angle_3d(landmarks[26], landmarks[28], landmarks[27]),\n",
    "    }\n",
    "    return key_angles"
   ]
  },
  {
   "cell_type": "code",
   "execution_count": 76,
   "id": "372641e0-da8e-4e22-b8d7-233447540327",
   "metadata": {},
   "outputs": [],
   "source": [
    "def extract_pose_vector(landmarks):\n",
    "    return np.array([coord for landmark in landmarks for coord in landmark])"
   ]
  },
  {
   "cell_type": "code",
   "execution_count": 78,
   "id": "7eb1e2aa-02ca-4df5-ad5c-5da85aa9cdaf",
   "metadata": {},
   "outputs": [],
   "source": [
    "def load_ideal_pose_vectors(dataset_path):\n",
    "    ideal_vectors = {}\n",
    "    for yoga_pose in os.listdir(dataset_path):\n",
    "        pose_folder = os.path.join(dataset_path, yoga_pose)\n",
    "        if not os.path.isdir(pose_folder):\n",
    "            continue\n",
    "        vectors_list = []\n",
    "        for img_name in os.listdir(pose_folder):\n",
    "            img_path = os.path.join(pose_folder, img_name)\n",
    "            image = cv2.imread(img_path)\n",
    "            if image is None:\n",
    "                continue\n",
    "            image_rgb = cv2.cvtColor(image, cv2.COLOR_BGR2RGB)\n",
    "            results = pose.process(image_rgb)\n",
    "            if results.pose_landmarks:\n",
    "                landmarks = [(lm.x, lm.y, lm.z) for lm in results.pose_landmarks.landmark]\n",
    "                vectors_list.append(extract_pose_vector(landmarks))\n",
    "        if vectors_list:\n",
    "            avg_vector = np.mean(vectors_list, axis=0)\n",
    "            ideal_vectors[yoga_pose] = avg_vector\n",
    "    return ideal_vectors"
   ]
  },
  {
   "cell_type": "code",
   "execution_count": 80,
   "id": "3fef3ad7-5338-4c8b-9ff7-208c6f2827b6",
   "metadata": {},
   "outputs": [
    {
     "name": "stderr",
     "output_type": "stream",
     "text": [
      "C:\\Users\\SABAREESH\\anaconda3\\Lib\\site-packages\\google\\protobuf\\symbol_database.py:55: UserWarning: SymbolDatabase.GetPrototype() is deprecated. Please use message_factory.GetMessageClass() instead. SymbolDatabase.GetPrototype() will be removed soon.\n",
      "  warnings.warn('SymbolDatabase.GetPrototype() is deprecated. Please '\n"
     ]
    }
   ],
   "source": [
    "ideal_pose_vectors = load_ideal_pose_vectors(\"dataset\")"
   ]
  },
  {
   "cell_type": "code",
   "execution_count": 84,
   "id": "f1f7b73b-04ac-4e9f-b40f-18b25205dc25",
   "metadata": {},
   "outputs": [],
   "source": [
    "def compare_pose_similarity(user_vector, ideal_vector):\n",
    "    similarity = 1 - cosine(user_vector, ideal_vector)\n",
    "    return similarity * 100"
   ]
  },
  {
   "cell_type": "code",
   "execution_count": 86,
   "id": "e17a7d4f-4255-40be-bb8f-a42decd30e4d",
   "metadata": {},
   "outputs": [],
   "source": [
    "def extract_landmarks(results):\n",
    "    return [(lm.x, lm.y, lm.z) for lm in results.pose_landmarks.landmark]"
   ]
  },
  {
   "cell_type": "code",
   "execution_count": 98,
   "id": "c1bc54ef-2b0e-4f7c-83d6-1b95a849e4cc",
   "metadata": {},
   "outputs": [],
   "source": [
    "def provide_text_feedback(joint, error_x, error_y):\n",
    "    directions = []\n",
    "    if abs(error_y) > 10:\n",
    "        directions.append(\"Up\" if error_y < 0 else \"Down\")\n",
    "    if abs(error_x) > 10:\n",
    "        directions.append(\"Left\" if error_x > 0 else \"Right\")\n",
    "    if directions:\n",
    "        return f\"Move {joint} {' and '.join(directions)}\"\n",
    "    return \"\""
   ]
  },
  {
   "cell_type": "code",
   "execution_count": 100,
   "id": "d1b4288a-3460-4b4b-9a4a-1a2ef445d533",
   "metadata": {},
   "outputs": [],
   "source": [
    "cap = cv2.VideoCapture(0)\n",
    "while cap.isOpened():\n",
    "    ret, frame = cap.read()\n",
    "    if not ret:\n",
    "        break\n",
    "    frame = cv2.flip(frame, 1)\n",
    "    image = cv2.cvtColor(frame, cv2.COLOR_BGR2RGB)\n",
    "    results = pose.process(image)\n",
    "    if results.pose_landmarks:\n",
    "        landmarks = extract_landmarks(results)\n",
    "        user_vector = extract_pose_vector(landmarks)\n",
    "        user_input_pose = \"vriksasana\"\n",
    "        if user_input_pose in ideal_pose_vectors:\n",
    "            score = compare_pose_similarity(user_vector, ideal_pose_vectors[user_input_pose])\n",
    "            cv2.putText(frame, f\"Pose Score: {int(score)}%\", (50, 50), cv2.FONT_HERSHEY_SIMPLEX, 1, (0, 255, 0), 2)\n",
    "            if score >= 100:\n",
    "                cv2.putText(frame, \"Perfect Pose!\", (50, 100), cv2.FONT_HERSHEY_SIMPLEX, 1, (0, 255, 0), 2)\n",
    "            elif score >= 80:\n",
    "                cv2.putText(frame, \"Good Pose!\", (50, 100), cv2.FONT_HERSHEY_SIMPLEX, 1, (0, 255, 0), 2)\n",
    "            else:\n",
    "                for idx, landmark in enumerate(results.pose_landmarks.landmark):\n",
    "                    cx, cy = int(landmark.x * frame.shape[1]), int(landmark.y * frame.shape[0])\n",
    "                    ideal_x, ideal_y = int(ideal_pose_vectors[user_input_pose][idx * 3] * frame.shape[1]), int(ideal_pose_vectors[user_input_pose][idx * 3 + 1] * frame.shape[0])\n",
    "                    error_x, error_y = cx - ideal_x, cy - ideal_y\n",
    "                    joint_name = list(extract_angles(landmarks).keys())[idx % 8]\n",
    "                    color = (0, 255, 0) if abs(error_x) < 10 and abs(error_y) < 10 else (0, 0, 255)\n",
    "                    mp_drawing.draw_landmarks(frame, results.pose_landmarks, mp_pose.POSE_CONNECTIONS, \n",
    "                                              landmark_drawing_spec=mp_drawing.DrawingSpec(color=color, thickness=2, circle_radius=4))\n",
    "                    feedback_text = provide_text_feedback(joint_name, error_x, error_y)\n",
    "                    if feedback_text:\n",
    "                        cv2.putText(frame, feedback_text, (50, 150), cv2.FONT_HERSHEY_SIMPLEX, 1, (0, 0, 255), 2)\n",
    "                        break\n",
    "    cv2.imshow('Yoga Pose Correction', frame)\n",
    "    if cv2.waitKey(10) & 0xFF == ord('q'):\n",
    "        break\n",
    "cap.release()\n",
    "cv2.destroyAllWindows()"
   ]
  },
  {
   "cell_type": "code",
   "execution_count": null,
   "id": "0003397b-b783-4b43-b3b1-6c9a8d5146ad",
   "metadata": {},
   "outputs": [],
   "source": []
  },
  {
   "cell_type": "code",
   "execution_count": null,
   "id": "b34b83c0-6de3-46c5-bbd5-1d6a3d3b0852",
   "metadata": {},
   "outputs": [],
   "source": []
  }
 ],
 "metadata": {
  "kernelspec": {
   "display_name": "Python [conda env:base] *",
   "language": "python",
   "name": "conda-base-py"
  },
  "language_info": {
   "codemirror_mode": {
    "name": "ipython",
    "version": 3
   },
   "file_extension": ".py",
   "mimetype": "text/x-python",
   "name": "python",
   "nbconvert_exporter": "python",
   "pygments_lexer": "ipython3",
   "version": "3.12.7"
  }
 },
 "nbformat": 4,
 "nbformat_minor": 5
}
